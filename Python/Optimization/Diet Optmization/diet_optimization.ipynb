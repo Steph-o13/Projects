{
 "cells": [
  {
   "cell_type": "markdown",
   "metadata": {},
   "source": [
    "# Optimization Models\n",
    "\n",
    "*Problem*: \n",
    "\n",
    "Inspired by the diet optimization problem of the 1930s/1940s US Army, the goal here is to solve several different optimization problems with regards to diet, two different data sets, and different constraints. \n",
    "\n",
    "----------- \n",
    "\n",
    "*Models*: \n",
    "\n",
    "1. `Basic Optimization Problem`: find the cheapest diet that satisfies the minimum and maximum daily nutritional constraints.\n",
    "2. `Additional Constraints Problem`: find the cheapest diet that satisifies the minimum and maximum daily nutritional constraints and the below constraints:\n",
    "    - If a food is selected, then a min of 1/10 serving must be chosen\n",
    "    - Only one of celery or broccoli can be selected\n",
    "    - At least three kinds of meat/poultry/fish/eggs should be selected\n",
    "3. `More Complex Data Problem`: find the lowest-cholesterol diet \n",
    "4. `Maximization Problem`: find the highest-protein diet"
   ]
  },
  {
   "cell_type": "code",
   "execution_count": 163,
   "metadata": {},
   "outputs": [],
   "source": [
    "#! pip install pulp\n",
    "#! pip install xlrd"
   ]
  },
  {
   "cell_type": "code",
   "execution_count": 164,
   "metadata": {},
   "outputs": [],
   "source": [
    "# Import PuLP modeler functions\n",
    "from pulp import *\n",
    "import pandas as pd\n",
    "import numpy as np\n",
    "\n",
    "pd.set_option('display.max_rows', None)\n",
    "\n",
    "import warnings\n",
    "warnings.filterwarnings(\"ignore\")"
   ]
  },
  {
   "cell_type": "code",
   "execution_count": 165,
   "metadata": {},
   "outputs": [],
   "source": [
    "# read in the data\n",
    "diet = pd.read_excel('diet_folder/diet.xls', sheet_name='Sheet1')"
   ]
  },
  {
   "cell_type": "markdown",
   "metadata": {},
   "source": [
    "# Optimization Model 1\n",
    "\n",
    "Basic Optimization problem: find the cheapest diet that satisfies the minimum and maximum daily nutritional constraints."
   ]
  },
  {
   "cell_type": "code",
   "execution_count": 166,
   "metadata": {},
   "outputs": [],
   "source": [
    "# grab only the food rows\n",
    "diet = diet[0:64]"
   ]
  },
  {
   "cell_type": "code",
   "execution_count": 167,
   "metadata": {},
   "outputs": [],
   "source": [
    "# convert dataframe to list\n",
    "diet=diet.values.tolist()"
   ]
  },
  {
   "cell_type": "code",
   "execution_count": 168,
   "metadata": {},
   "outputs": [],
   "source": [
    "# extract vectors of data for each nutrient\n",
    "foods = [x[0] for x in diet] #list of food names\n",
    "cost = dict([(x[0], float(x[1])) for x in diet]) # cost for each food\n",
    "calories = dict([(x[0], float(x[3])) for x in diet]) # calories for each food\n",
    "cholesterol = dict([(x[0], float(x[4])) for x in diet]) # cholesterol for each food\n",
    "totalFat = dict([(x[0], float(x[5])) for x in diet]) # total fat for each food\n",
    "sodium = dict([(x[0], float(x[6])) for x in diet]) # sodium for each food\n",
    "carbohydrates = dict([(x[0], float(x[7])) for x in diet]) # carbohydrates for each food\n",
    "dietaryFiber = dict([(x[0], float(x[8])) for x in diet]) # fibre for each food\n",
    "protein = dict([(x[0], float(x[9])) for x in diet]) # protein for each food\n",
    "vitaminA = dict([(x[0], float(x[10])) for x in diet]) # vitamin A for each food\n",
    "vitaminC = dict([(x[0], float(x[11])) for x in diet]) # vitamin C for each food\n",
    "calcium = dict([(x[0], float(x[12])) for x in diet]) # calcium for each food\n",
    "iron = dict([(x[0], float(x[13])) for x in diet]) # iron for each food"
   ]
  },
  {
   "cell_type": "code",
   "execution_count": 169,
   "metadata": {},
   "outputs": [],
   "source": [
    "# create LP problem; this problem is a minimization problem to find the lowest cost\n",
    "prob1 = LpProblem(name='Food optimization', sense=LpMinimize)"
   ]
  },
  {
   "cell_type": "code",
   "execution_count": 170,
   "metadata": {},
   "outputs": [],
   "source": [
    "# define the variable for each food, with a lower limit of zero since you can't eat any negative amounts\n",
    "foodVars = LpVariable.dicts(\"Foods\", foods, 0) "
   ]
  },
  {
   "cell_type": "code",
   "execution_count": 171,
   "metadata": {},
   "outputs": [],
   "source": [
    "# Note that the first function we add is taken to be the objective function\n",
    "prob1 += lpSum([cost[f] * foodVars[f] for f in foods]), 'Total Cost'"
   ]
  },
  {
   "cell_type": "code",
   "execution_count": 172,
   "metadata": {},
   "outputs": [],
   "source": [
    "# add the nutritional constraints for each variable \n",
    "prob1 += lpSum([calories[f] * foodVars[f] for f in foods]) >= 1500, 'min Calories'\n",
    "prob1 += lpSum([calories[f] * foodVars[f] for f in foods]) <= 2500, 'max Calories'\n",
    "\n",
    "prob1 += lpSum([cholesterol[f] * foodVars[f] for f in foods]) >= 30, 'min Cholesterol'\n",
    "prob1 += lpSum([cholesterol[f] * foodVars[f] for f in foods]) <= 240, 'max Cholesterol'\n",
    "\n",
    "prob1 += lpSum([totalFat[f] * foodVars[f] for f in foods]) >= 20, 'min Fat'\n",
    "prob1 += lpSum([totalFat[f] * foodVars[f] for f in foods]) <= 70, 'max Fat'\n",
    "\n",
    "prob1 += lpSum([sodium[f] * foodVars[f] for f in foods]) >= 800, 'min Sodium'\n",
    "prob1 += lpSum([sodium[f] * foodVars[f] for f in foods]) <= 2000, 'max Sodium'\n",
    "\n",
    "prob1 += lpSum([carbohydrates[f] * foodVars[f] for f in foods]) >= 130, 'min Carbohydrates'\n",
    "prob1 += lpSum([carbohydrates[f] * foodVars[f] for f in foods]) <= 450, 'max Carbohydrates'\n",
    "\n",
    "prob1 += lpSum([dietaryFiber[f] * foodVars[f] for f in foods]) >= 125, 'min Fiber'\n",
    "prob1 += lpSum([dietaryFiber[f] * foodVars[f] for f in foods]) <= 250, 'max Fiber'\n",
    "\n",
    "prob1 += lpSum([protein[f] * foodVars[f] for f in foods]) >= 60, 'min Protein'\n",
    "prob1 += lpSum([protein[f] * foodVars[f] for f in foods]) <= 100, 'max Protein'\n",
    "\n",
    "prob1 += lpSum([vitaminA[f] * foodVars[f] for f in foods]) >= 1000, 'min Vit_A'\n",
    "prob1 += lpSum([vitaminA[f] * foodVars[f] for f in foods]) <= 10000, 'max Vit_A'\n",
    "\n",
    "prob1 += lpSum([vitaminC[f] * foodVars[f] for f in foods]) >= 400, 'min Vit_C'\n",
    "prob1 += lpSum([vitaminC[f] * foodVars[f] for f in foods]) <= 5000, 'max Vit_C'\n",
    "\n",
    "prob1 += lpSum([calcium[f] * foodVars[f] for f in foods]) >= 700, 'min Calcium'\n",
    "prob1 += lpSum([calcium[f] * foodVars[f] for f in foods]) <= 1500, 'max Calcium'\n",
    "\n",
    "prob1 += lpSum([iron[f] * foodVars[f] for f in foods]) >= 10, 'min Iron'\n",
    "prob1 += lpSum([iron[f] * foodVars[f] for f in foods]) <= 40, 'max Iron'"
   ]
  },
  {
   "cell_type": "code",
   "execution_count": 173,
   "metadata": {},
   "outputs": [
    {
     "data": {
      "text/plain": [
       "1"
      ]
     },
     "execution_count": 173,
     "metadata": {},
     "output_type": "execute_result"
    }
   ],
   "source": [
    "# solve the optimization problem\n",
    "prob1.solve()"
   ]
  },
  {
   "cell_type": "code",
   "execution_count": 174,
   "metadata": {},
   "outputs": [
    {
     "name": "stdout",
     "output_type": "stream",
     "text": [
      "\n",
      "---------The solution to this diet problem is----------\n",
      "52.64371 units of Celery,_Raw\n",
      "0.25960653 units of Frozen_Broccoli\n",
      "63.988506 units of Lettuce,Iceberg,Raw\n",
      "2.2929389 units of Oranges\n",
      "0.14184397 units of Poached_Eggs\n",
      "13.869322 units of Popcorn,Air_Popped\n",
      "\n",
      "Total cost of food = $4.34\n"
     ]
    }
   ],
   "source": [
    "# print the output\n",
    "print()\n",
    "print(\"---------The solution to this diet problem is----------\")\n",
    "for var in prob1.variables():\n",
    "    if var.varValue > 0:\n",
    "        print(str(var.varValue)+\" units of \"+str(var).replace('Foods_','') )\n",
    "print()\n",
    "print(\"Total cost of food = $%.2f\" % value(prob1.objective))\n",
    "        "
   ]
  },
  {
   "cell_type": "markdown",
   "metadata": {},
   "source": [
    "# Optimization Model 1 - Alternative Method\n",
    "\n",
    "Basic Optimization problem: find the cheapest diet that satisfies the minimum and maximum daily nutritional constraints."
   ]
  },
  {
   "cell_type": "code",
   "execution_count": 175,
   "metadata": {},
   "outputs": [],
   "source": [
    "# read in the data\n",
    "data = pd.read_excel('diet_folder/diet.xls', sheet_name='Sheet1')"
   ]
  },
  {
   "cell_type": "code",
   "execution_count": 176,
   "metadata": {},
   "outputs": [],
   "source": [
    "# grab only the food rows\n",
    "dataTable = data[0:64]"
   ]
  },
  {
   "cell_type": "code",
   "execution_count": 177,
   "metadata": {},
   "outputs": [],
   "source": [
    "# convert dataframe to list\n",
    "dataTable = dataTable.values.tolist()"
   ]
  },
  {
   "cell_type": "code",
   "execution_count": 178,
   "metadata": {},
   "outputs": [],
   "source": [
    "# get the nutrient names / column headers\n",
    "nutrientNames = list(data.columns.values)  # column headers (nutrient names are in columns 3-13; Excel calls them D-N)"
   ]
  },
  {
   "cell_type": "code",
   "execution_count": 179,
   "metadata": {},
   "outputs": [],
   "source": [
    "# get the min and max nutrient values\n",
    "minVal = data[65:66].values.tolist() # minimum nutrient values\n",
    "maxVal = data[66:67].values.tolist() # maximum nutrient values"
   ]
  },
  {
   "cell_type": "code",
   "execution_count": 180,
   "metadata": {},
   "outputs": [],
   "source": [
    "# extract individual vectors of data using dictionaries\n",
    "foods = [j[0] for j in dataTable] #list of food names\n",
    "\n",
    "cost = dict([(j[0], float(j[1])) for j in dataTable]) # cost for each food\n",
    "\n",
    "nutrients = []\n",
    "for i in range(0,11): # for loop running through each nutrient: 11 times starting with 0\n",
    "    nutrients.append(dict([(j[0], float(j[i+3])) for j in dataTable])) # amount of nutrient i in food j"
   ]
  },
  {
   "cell_type": "code",
   "execution_count": 181,
   "metadata": {},
   "outputs": [],
   "source": [
    "# create LP problem with the lowest cost\n",
    "prob = LpProblem(name='Food optimization', sense=LpMinimize)"
   ]
  },
  {
   "cell_type": "code",
   "execution_count": 182,
   "metadata": {},
   "outputs": [],
   "source": [
    "# define the variables - one variable for each food, with a lower limit of zero\n",
    "foodVars = LpVariable.dicts(\"Foods\", foods, 0)"
   ]
  },
  {
   "cell_type": "code",
   "execution_count": 183,
   "metadata": {},
   "outputs": [],
   "source": [
    "# create the objective function\n",
    "prob += lpSum([cost[f] * foodVars[f] for f in foods]), 'Total Cost'"
   ]
  },
  {
   "cell_type": "code",
   "execution_count": 184,
   "metadata": {},
   "outputs": [],
   "source": [
    "# add constraints for each nutrient\n",
    "for i in range(0,11): # for loop running through each nutrient: 11 times starting with 0\n",
    "    prob += lpSum([nutrients[i][j] * foodVars[j] for j in foods]) >= minVal[0][i+3], 'min nutrient ' + nutrientNames[i]\n",
    "    prob += lpSum([nutrients[i][j] * foodVars[j] for j in foods]) <= maxVal[0][i+3], 'max nutrient ' + nutrientNames[i]"
   ]
  },
  {
   "cell_type": "code",
   "execution_count": 185,
   "metadata": {},
   "outputs": [
    {
     "data": {
      "text/plain": [
       "1"
      ]
     },
     "execution_count": 185,
     "metadata": {},
     "output_type": "execute_result"
    }
   ],
   "source": [
    "# solve the optimization problem\n",
    "prob.solve()"
   ]
  },
  {
   "cell_type": "code",
   "execution_count": 186,
   "metadata": {},
   "outputs": [
    {
     "name": "stdout",
     "output_type": "stream",
     "text": [
      "\n",
      "---------The solution to the diet problem is----------\n",
      "52.64371 units of Celery,_Raw\n",
      "0.25960653 units of Frozen_Broccoli\n",
      "63.988506 units of Lettuce,Iceberg,Raw\n",
      "2.2929389 units of Oranges\n",
      "0.14184397 units of Poached_Eggs\n",
      "13.869322 units of Popcorn,Air_Popped\n",
      "\n",
      "Total cost of food = $4.34\n"
     ]
    }
   ],
   "source": [
    "# print output\n",
    "print()\n",
    "print(\"---------The solution to the diet problem is----------\")\n",
    "for var in prob.variables():\n",
    "    if var.varValue > 0:\n",
    "        print(str(var.varValue)+\" units of \"+str(var).replace('Foods_','') )\n",
    "print()\n",
    "print(\"Total cost of food = $%.2f\" % value(prob.objective))     "
   ]
  },
  {
   "cell_type": "markdown",
   "metadata": {},
   "source": [
    "# Optimization Model 2\n",
    "\n",
    "2. Additional constraints problem: find the cheapest diet that satisifies the minimum and maximum daily nutritional constraints and the below constraints:\n",
    "    - If a food is selected, then a min of 1/10 serving must be chosen\n",
    "    - Only one of celery or broccoli can be selected\n",
    "    - At least three kinds of meat/poultry/fish/eggs should be selected"
   ]
  },
  {
   "cell_type": "code",
   "execution_count": 187,
   "metadata": {},
   "outputs": [],
   "source": [
    "# read in the data\n",
    "data = pd.read_excel('diet_folder/diet.xls', sheet_name='Sheet1')"
   ]
  },
  {
   "cell_type": "code",
   "execution_count": 188,
   "metadata": {},
   "outputs": [],
   "source": [
    "# grab only the food rows\n",
    "dataTable = data[0:64] # rows 0:64 (Excel calls them 1-65) is the food data table\n",
    "dataTable = dataTable.values.tolist() # Convert dataframe to list"
   ]
  },
  {
   "cell_type": "code",
   "execution_count": 189,
   "metadata": {},
   "outputs": [],
   "source": [
    "# get the nutrient names / column headers\n",
    "nutrientNames = list(data.columns.values) "
   ]
  },
  {
   "cell_type": "code",
   "execution_count": 190,
   "metadata": {},
   "outputs": [],
   "source": [
    "# get the min/max values of the nutrients\n",
    "minVal = data[65:66].values.tolist() # minimum nutrient values\n",
    "maxVal = data[66:67].values.tolist() # maximum nutrient values"
   ]
  },
  {
   "cell_type": "code",
   "execution_count": 191,
   "metadata": {},
   "outputs": [],
   "source": [
    "# extract individual vectors of data\n",
    "foods = [j[0] for j in dataTable] #list of food names\n",
    "\n",
    "cost = dict([(j[0], float(j[1])) for j in dataTable]) # cost for each food\n",
    "\n",
    "nutrients = []\n",
    "for i in range(0,11): # for loop running through each nutrient: 11 times starting with 0\n",
    "    nutrients.append(dict([(j[0], float(j[i+3])) for j in dataTable])) # amount of nutrient i in food j"
   ]
  },
  {
   "cell_type": "code",
   "execution_count": 192,
   "metadata": {},
   "outputs": [],
   "source": [
    "# This problem is a minimization problem (find the *lowest* cost)\n",
    "prob = LpProblem(name='Food optimization', sense=LpMinimize) "
   ]
  },
  {
   "cell_type": "code",
   "execution_count": 193,
   "metadata": {},
   "outputs": [],
   "source": [
    "# define the variables\n",
    "foodVars = LpVariable.dicts(\"Foods\", foods, 0) # lower limit of zero\n",
    "foodVars_selected = LpVariable.dicts(\"food_select\",foods,0,1,LpBinary) # create binary integer variables for whether a food is eaten"
   ]
  },
  {
   "cell_type": "code",
   "execution_count": 194,
   "metadata": {},
   "outputs": [],
   "source": [
    "# create objective function\n",
    "prob += lpSum([cost[f] * foodVars[f] for f in foods]), 'Total Cost'"
   ]
  },
  {
   "cell_type": "code",
   "execution_count": 195,
   "metadata": {},
   "outputs": [],
   "source": [
    "# add nutritional constraints\n",
    "for i in range(0,11): # for loop running through each nutrient: 11 times starting with 0\n",
    "    prob += lpSum([nutrients[i][j] * foodVars[j] for j in foods]) >= minVal[0][i+3], 'min nutrient ' + nutrientNames[i]\n",
    "    prob += lpSum([nutrients[i][j] * foodVars[j] for j in foods]) <= maxVal[0][i+3], 'max nutrient ' + nutrientNames[i]"
   ]
  },
  {
   "cell_type": "code",
   "execution_count": 196,
   "metadata": {},
   "outputs": [],
   "source": [
    "# add additional constraints\n",
    "\n",
    "# 1. If a food is selected, then a min of 1/10 serving must be chosen\n",
    "for food in foods:\n",
    "    prob += foodVars[food] >= 0.1 * foodVars_selected[food]\n",
    "# If any of a food is eaten, its binary variable must be 1\n",
    "for food in foods:\n",
    "    prob += foodVars_selected[food] >= foodVars[food]*0.0000001 "
   ]
  },
  {
   "cell_type": "code",
   "execution_count": 197,
   "metadata": {},
   "outputs": [],
   "source": [
    "# 2. Only one of celery or broccoli can be selected\n",
    "prob += foodVars_selected['Frozen Broccoli'] + foodVars_selected['Celery, Raw'] <= 1 "
   ]
  },
  {
   "cell_type": "code",
   "execution_count": 198,
   "metadata": {},
   "outputs": [],
   "source": [
    "# 3. At least three kinds of meat/poultry/fish/eggs should be selected\n",
    "\n",
    "prob += foodVars_selected['Roasted Chicken'] + foodVars_selected['Poached Eggs'] \\\n",
    "        + foodVars_selected['Scrambled Eggs'] + foodVars_selected['Bologna,Turkey'] \\\n",
    "        + foodVars_selected['Frankfurter, Beef'] + foodVars_selected['Ham,Sliced,Extralean'] \\\n",
    "        + foodVars_selected['Kielbasa,Prk'] + foodVars_selected['Pizza W/Pepperoni'] \\\n",
    "        + foodVars_selected['Hamburger W/Toppings'] \\\n",
    "        + foodVars_selected['Hotdog, Plain'] + foodVars_selected['Pork'] \\\n",
    "        + foodVars_selected['Sardines in Oil'] + foodVars_selected['White Tuna in Water'] \\\n",
    "        + foodVars_selected['Chicknoodl Soup'] + foodVars_selected['Splt Pea&Hamsoup'] \\\n",
    "        + foodVars_selected['Vegetbeef Soup'] + foodVars_selected['Neweng Clamchwd'] \\\n",
    "        + foodVars_selected['New E Clamchwd,W/Mlk'] + foodVars_selected['Beanbacn Soup,W/Watr'] >= 3"
   ]
  },
  {
   "cell_type": "code",
   "execution_count": 199,
   "metadata": {},
   "outputs": [
    {
     "data": {
      "text/plain": [
       "1"
      ]
     },
     "execution_count": 199,
     "metadata": {},
     "output_type": "execute_result"
    }
   ],
   "source": [
    "# solve the optimization problem\n",
    "prob.solve()"
   ]
  },
  {
   "cell_type": "code",
   "execution_count": 200,
   "metadata": {},
   "outputs": [
    {
     "name": "stdout",
     "output_type": "stream",
     "text": [
      "\n",
      "---------The solution to the diet problem is----------\n",
      "42.399358 units of Celery,_Raw\n",
      "0.1 units of Kielbasa,Prk\n",
      "82.802586 units of Lettuce,Iceberg,Raw\n",
      "3.0771841 units of Oranges\n",
      "1.9429716 units of Peanut_Butter\n",
      "0.1 units of Poached_Eggs\n",
      "13.223294 units of Popcorn,Air_Popped\n",
      "0.1 units of Scrambled_Eggs\n",
      "\n",
      "Total cost of food = $4.51\n"
     ]
    }
   ],
   "source": [
    "# print output\n",
    "print()\n",
    "print(\"---------The solution to the diet problem is----------\")\n",
    "for var in prob.variables():\n",
    "    if var.varValue > 0 and \"food_select\" not in var.name: # Print non binary variables\n",
    "        print(str(var.varValue)+\" units of \"+str(var).replace('Foods_','') )\n",
    "print()\n",
    "print(\"Total cost of food = $%.2f\" % value(prob.objective))   "
   ]
  },
  {
   "cell_type": "markdown",
   "metadata": {},
   "source": [
    "# Optimization Model 3\n",
    "\n",
    "More Complex Data Problem: find the lowest-cholesterol diet "
   ]
  },
  {
   "cell_type": "code",
   "execution_count": 201,
   "metadata": {},
   "outputs": [],
   "source": [
    "# read in the data\n",
    "data = pd.read_excel(\"diet_folder/diet_large.xls\", skiprows = 1, header = 0) # read all data"
   ]
  },
  {
   "cell_type": "code",
   "execution_count": 202,
   "metadata": {},
   "outputs": [],
   "source": [
    "# grab food data\n",
    "dataTable = data[0:7146] # rows 0:7146 (Excel calls them 2-7148; remember we skipped the blank first row in the read call) is the food data table\n",
    "dataTable = dataTable.values.tolist() # Convert dataframe to list"
   ]
  },
  {
   "cell_type": "code",
   "execution_count": 203,
   "metadata": {},
   "outputs": [],
   "source": [
    "# get nutrient information\n",
    "nutrientNames = list(data.columns.values) # column headers (nutrient names are in columns 3-13; Excel calls them D-N)\n",
    "numNutrients = len(nutrientNames) - 1 # don't count the food-name column"
   ]
  },
  {
   "cell_type": "code",
   "execution_count": 204,
   "metadata": {},
   "outputs": [],
   "source": [
    "# blank elements are read as 'nan', so need to replace them with zero\n",
    "for i in range(0,7146):\n",
    "    for j in range(1,numNutrients):\n",
    "        if np.isnan(dataTable[i][j]):\n",
    "            dataTable[i][j] = 0"
   ]
  },
  {
   "cell_type": "code",
   "execution_count": 205,
   "metadata": {},
   "outputs": [],
   "source": [
    "# get min and max nutrient values\n",
    "minVal = data[7147:7148].values.tolist() # minimum nutrient values\n",
    "maxVal = data[7149:7151].values.tolist() # maximum nutrient values"
   ]
  },
  {
   "cell_type": "code",
   "execution_count": 206,
   "metadata": {},
   "outputs": [],
   "source": [
    "# Extract individual vectors of data\n",
    "foods = [j[0] for j in dataTable] #list of food names\n",
    "\n",
    "cost = dict([(j[0], float(j[nutrientNames.index('Cholesterol')])) for j in dataTable]) # cholesterol for each food\n",
    "\n",
    "nutrients = []\n",
    "for i in range(0,numNutrients): # for loop running through each nutrient\n",
    "    nutrients.append(dict([(j[0], float(j[i+1])) for j in dataTable])) # amount of nutrient i in food j"
   ]
  },
  {
   "cell_type": "code",
   "execution_count": 207,
   "metadata": {},
   "outputs": [],
   "source": [
    "# great lp problem  to minimize the cholesterol\n",
    "prob = LpProblem(name='Food optimization', sense=LpMinimize) "
   ]
  },
  {
   "cell_type": "code",
   "execution_count": 208,
   "metadata": {},
   "outputs": [],
   "source": [
    "# define the variables - food with lower limit of zero\n",
    "foodVars = LpVariable.dicts(\"Foods\", foods, 0)"
   ]
  },
  {
   "cell_type": "code",
   "execution_count": 209,
   "metadata": {},
   "outputs": [],
   "source": [
    "# create objective function\n",
    "prob += lpSum([cost[f] * foodVars[f] for f in foods]), 'Total Cost'"
   ]
  },
  {
   "cell_type": "code",
   "execution_count": 210,
   "metadata": {},
   "outputs": [
    {
     "name": "stdout",
     "output_type": "stream",
     "text": [
      "adding constraint for Protein\n",
      "adding constraint for Carbohydrate, by difference\n",
      "adding constraint for Energy\n",
      "adding constraint for Water\n",
      "adding constraint for Energy.1\n",
      "adding constraint for Calcium, Ca\n",
      "adding constraint for Iron, Fe\n",
      "adding constraint for Magnesium, Mg\n",
      "adding constraint for Phosphorus, P\n",
      "adding constraint for Potassium, K\n",
      "adding constraint for Sodium, Na\n",
      "adding constraint for Zinc, Zn\n",
      "adding constraint for Copper, Cu\n",
      "adding constraint for Manganese, Mn\n",
      "adding constraint for Selenium, Se\n",
      "adding constraint for Vitamin A, RAE\n",
      "adding constraint for Vitamin E (alpha-tocopherol)\n",
      "adding constraint for Vitamin D\n",
      "adding constraint for Vitamin C, total ascorbic acid\n",
      "adding constraint for Thiamin\n",
      "adding constraint for Riboflavin\n",
      "adding constraint for Niacin\n",
      "adding constraint for Pantothenic acid\n",
      "adding constraint for Vitamin B-6\n",
      "adding constraint for Folate, total\n",
      "adding constraint for Vitamin B-12\n",
      "adding constraint for Vitamin K (phylloquinone)\n"
     ]
    }
   ],
   "source": [
    "# add nutritional constraints\n",
    "for i in range(0,numNutrients): # for loop running through each nutrient\n",
    "    if (not np.isnan(minVal[0][i+1])) and (not np.isnan(maxVal[0][i+1])): # only write a constraint if upper and lower bounds exist\n",
    "        print(\"adding constraint for \" + nutrientNames[i+1])\n",
    "        prob += lpSum([nutrients[i][j] * foodVars[j] for j in foods]) >= minVal[0][i+1], 'min nutrient ' + nutrientNames[i+1]\n",
    "        prob += lpSum([nutrients[i][j] * foodVars[j] for j in foods]) <= maxVal[0][i+1], 'max nutrient ' + nutrientNames[i+1]"
   ]
  },
  {
   "cell_type": "code",
   "execution_count": 211,
   "metadata": {},
   "outputs": [
    {
     "data": {
      "text/plain": [
       "1"
      ]
     },
     "execution_count": 211,
     "metadata": {},
     "output_type": "execute_result"
    }
   ],
   "source": [
    "# solve the optimization problem\n",
    "prob.solve()"
   ]
  },
  {
   "cell_type": "code",
   "execution_count": 212,
   "metadata": {},
   "outputs": [
    {
     "name": "stdout",
     "output_type": "stream",
     "text": [
      "\n",
      "---------The solution to the diet problem is----------\n",
      "0.059863415 units of Beans,_adzuki,_mature_seeds,_raw\n",
      "0.069514608 units of Broccoli_raab,_raw\n",
      "0.42866218 units of Cocoa_mix,_no_sugar_added,_powder\n",
      "0.14694398 units of Egg,_white,_dried,_flakes,_glucose_reduced\n",
      "0.73805891 units of Infant_formula,_MEAD_JOHNSON,_ENFAMIL,_NUTRAMIGEN,_with_iron,_p\n",
      "0.4258564 units of Infant_formula,_NESTLE,_GOOD_START_ESSENTIALS__SOY,__with_iron,\n",
      "0.050114149 units of Infant_formula,_ROSS,_ISOMIL,_with_iron,_powder,_not_reconstitu\n",
      "0.15033656 units of Margarine_like_spread,_approximately_60%_fat,_tub,_soybean_(hyd\n",
      "0.25918767 units of Mung_beans,_mature_seeds,_raw\n",
      "0.18052856 units of Nuts,_mixed_nuts,_dry_roasted,_with_peanuts,_with_salt_added\n",
      "1.184482 units of Oil,_vegetable,_sunflower,_linoleic,_(hydrogenated)\n",
      "0.10375187 units of Seeds,_sunflower_seed_kernels,_dry_roasted,_with_salt_added\n",
      "0.031866196 units of Snacks,_potato_chips,_fat_free,_made_with_olestra\n",
      "0.070710308 units of Spices,_paprika\n",
      "0.55106575 units of Tomatoes,_sun_dried\n",
      "9999.6864 units of Water,_bottled,_non_carbonated,_CALISTOGA\n",
      "\n",
      "Total cholesterol = 0.000000\n"
     ]
    }
   ],
   "source": [
    "# print output\n",
    "print()\n",
    "print(\"---------The solution to the diet problem is----------\")\n",
    "for var in prob.variables():\n",
    "    if var.varValue > 0:\n",
    "        print(str(var.varValue)+\" units of \"+str(var).replace('Foods_','') )\n",
    "print()\n",
    "print(\"Total cholesterol = %f\" % value(prob.objective))"
   ]
  },
  {
   "cell_type": "markdown",
   "metadata": {},
   "source": [
    "# Optimization Model 4 \n",
    "\n",
    "Maximization Problem: find the highest-protein diet"
   ]
  },
  {
   "cell_type": "code",
   "execution_count": 213,
   "metadata": {},
   "outputs": [],
   "source": [
    "# read in data\n",
    "data = pd.read_excel(\"diet_folder/diet_large.xls\", skiprows = 1, header = 0)"
   ]
  },
  {
   "cell_type": "code",
   "execution_count": 214,
   "metadata": {},
   "outputs": [],
   "source": [
    "# get food data\n",
    "dataTable = data[0:7146] # rows 0:7146 (Excel calls them 2-7148; remember we skipped the blank first row in the read call) is the food data table\n",
    "dataTable = dataTable.values.tolist() # Convert dataframe to list"
   ]
  },
  {
   "cell_type": "code",
   "execution_count": 215,
   "metadata": {},
   "outputs": [],
   "source": [
    "# get nutrient names\n",
    "nutrientNames = list(data.columns.values) # column headers (nutrient names are in columns 3-13; Excel calls them D-N)\n",
    "numNutrients = len(nutrientNames) - 1 # don't count the food-name column"
   ]
  },
  {
   "cell_type": "code",
   "execution_count": 216,
   "metadata": {},
   "outputs": [],
   "source": [
    "# blank elements are read as 'nan', so need to replace them with zero\n",
    "for i in range(0,7146):\n",
    "    for j in range(1,numNutrients):\n",
    "        if np.isnan(dataTable[i][j]):\n",
    "            dataTable[i][j] = 0"
   ]
  },
  {
   "cell_type": "code",
   "execution_count": 217,
   "metadata": {},
   "outputs": [],
   "source": [
    "# get min/max values of nutrients\n",
    "minVal = data[7147:7148].values.tolist() # minimum nutrient values\n",
    "maxVal = data[7149:7151].values.tolist() # maximum nutrient values"
   ]
  },
  {
   "cell_type": "code",
   "execution_count": 218,
   "metadata": {},
   "outputs": [],
   "source": [
    "# extract individual vectors of data\n",
    "foods = [j[0] for j in dataTable] #list of food names\n",
    "\n",
    "cost = dict([(j[0], float(j[nutrientNames.index('Protein')])) for j in dataTable]) # protein for each food\n",
    "\n",
    "nutrients = []\n",
    "for i in range(0,numNutrients): # for loop running through each nutrient\n",
    "    nutrients.append(dict([(j[0], float(j[i+1])) for j in dataTable])) # amount of nutrient i in food j"
   ]
  },
  {
   "cell_type": "code",
   "execution_count": 219,
   "metadata": {},
   "outputs": [],
   "source": [
    "# create problem - a maximization of protein\n",
    "prob = LpProblem(name='Food optimization', sense=LpMaximize)"
   ]
  },
  {
   "cell_type": "code",
   "execution_count": 220,
   "metadata": {},
   "outputs": [],
   "source": [
    "# define the variables\n",
    "foodVars = LpVariable.dicts(\"Foods\", foods, 0)"
   ]
  },
  {
   "cell_type": "code",
   "execution_count": 221,
   "metadata": {},
   "outputs": [],
   "source": [
    "# create objective function\n",
    "prob += lpSum([cost[f] * foodVars[f] for f in foods]), 'Total Cost'"
   ]
  },
  {
   "cell_type": "code",
   "execution_count": 222,
   "metadata": {},
   "outputs": [
    {
     "name": "stdout",
     "output_type": "stream",
     "text": [
      "adding constraint for Protein\n",
      "adding constraint for Carbohydrate, by difference\n",
      "adding constraint for Energy\n",
      "adding constraint for Water\n",
      "adding constraint for Energy.1\n",
      "adding constraint for Calcium, Ca\n",
      "adding constraint for Iron, Fe\n",
      "adding constraint for Magnesium, Mg\n",
      "adding constraint for Phosphorus, P\n",
      "adding constraint for Potassium, K\n",
      "adding constraint for Sodium, Na\n",
      "adding constraint for Zinc, Zn\n",
      "adding constraint for Copper, Cu\n",
      "adding constraint for Manganese, Mn\n",
      "adding constraint for Selenium, Se\n",
      "adding constraint for Vitamin A, RAE\n",
      "adding constraint for Vitamin E (alpha-tocopherol)\n",
      "adding constraint for Vitamin D\n",
      "adding constraint for Vitamin C, total ascorbic acid\n",
      "adding constraint for Thiamin\n",
      "adding constraint for Riboflavin\n",
      "adding constraint for Niacin\n",
      "adding constraint for Pantothenic acid\n",
      "adding constraint for Vitamin B-6\n",
      "adding constraint for Folate, total\n",
      "adding constraint for Vitamin B-12\n",
      "adding constraint for Vitamin K (phylloquinone)\n"
     ]
    }
   ],
   "source": [
    "# add nutritional constraints\n",
    "for i in range(0,numNutrients): # for loop running through each nutrient\n",
    "    if (not np.isnan(minVal[0][i+1])) and (not np.isnan(maxVal[0][i+1])): # only write a constraint if upper and lower bounds exist\n",
    "        print(\"adding constraint for \" + nutrientNames[i+1])\n",
    "        prob += lpSum([nutrients[i][j] * foodVars[j] for j in foods]) >= minVal[0][i+1], 'min nutrient ' + nutrientNames[i+1]\n",
    "        prob += lpSum([nutrients[i][j] * foodVars[j] for j in foods]) <= maxVal[0][i+1], 'max nutrient ' + nutrientNames[i+1]"
   ]
  },
  {
   "cell_type": "code",
   "execution_count": 223,
   "metadata": {},
   "outputs": [
    {
     "data": {
      "text/plain": [
       "1"
      ]
     },
     "execution_count": 223,
     "metadata": {},
     "output_type": "execute_result"
    }
   ],
   "source": [
    "# solve the problem\n",
    "prob.solve()"
   ]
  },
  {
   "cell_type": "code",
   "execution_count": 224,
   "metadata": {},
   "outputs": [
    {
     "name": "stdout",
     "output_type": "stream",
     "text": [
      "\n",
      "---------The solution to the diet problem is----------\n",
      "7.0117007 units of BANQUET_Salisbury_Steak_Meal,_Gravy_and_Salisbury_Steak_with_Ma\n",
      "0.20365743 units of Cereals_ready_to_eat,_KASHI_Heart_to_Heart_by_KELLOGG\n",
      "0.23412086 units of Collards,_raw\n",
      "25.855235 units of Fish,_devilfish,_meat_(Alaska_Native)\n",
      "31.46708 units of Fish,_lingcod,_meat,_raw_(Alaska_Native)\n",
      "0.02 units of Fish_oil,_cod_liver\n",
      "2.2140307 units of Gelatins,_dry_powder,_unsweetened\n",
      "0.037489833 units of Mollusks,_oyster,_eastern,_canned\n",
      "57.437865 units of Rhubarb,_wild,_leaves_(Alaska_Native)\n",
      "621.79859 units of Sweeteners,_tabletop,_aspartame,_EQUAL,_packets\n",
      "9.5089609 units of Tea,_brewed,_prepared_with_distilled_water\n",
      "9552.2849 units of Water,_bottled,_non_carbonated,_CALISTOGA\n",
      "276.5536 units of Water,_bottled,_non_carbonated,_DANNON\n",
      "0.076732592 units of Whale,_beluga,_flipper,_raw_(Alaska_Native)\n",
      "9.6405544 units of Whale,_beluga,_liver,_raw_(Alaska_Native)\n",
      "1.7353546 units of Whale,_beluga,_meat,_air_dried,_raw_(Alaska_Native)\n",
      "\n",
      "Total protein = 2994.899576\n"
     ]
    }
   ],
   "source": [
    "# print output\n",
    "print()\n",
    "print(\"---------The solution to the diet problem is----------\")\n",
    "for var in prob.variables():\n",
    "    if var.varValue > 0:\n",
    "        print(str(var.varValue)+\" units of \"+str(var).replace('Foods_','') )\n",
    "print()\n",
    "print(\"Total protein = %f\" % value(prob.objective))"
   ]
  }
 ],
 "metadata": {
  "kernelspec": {
   "display_name": "Python 3",
   "language": "python",
   "name": "python3"
  },
  "language_info": {
   "codemirror_mode": {
    "name": "ipython",
    "version": 3
   },
   "file_extension": ".py",
   "mimetype": "text/x-python",
   "name": "python",
   "nbconvert_exporter": "python",
   "pygments_lexer": "ipython3",
   "version": "3.12.7"
  }
 },
 "nbformat": 4,
 "nbformat_minor": 2
}
