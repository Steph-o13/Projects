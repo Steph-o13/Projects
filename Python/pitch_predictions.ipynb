{
 "cells": [
  {
   "cell_type": "markdown",
   "metadata": {},
   "source": [
    " # Swish Analytics\n",
    " \n",
    "Goal: using the provided MLB data, review the dataset and outline the way I would go about the model-building process with the goal of predicting the probability that the next thrown pitch is a certain type. "
   ]
  },
  {
   "cell_type": "markdown",
   "metadata": {},
   "source": [
    "#### Read in Data"
   ]
  },
  {
   "cell_type": "code",
   "execution_count": 38,
   "metadata": {},
   "outputs": [],
   "source": [
    "# import \n",
    "import pandas as pd\n",
    "import numpy as np\n",
    "import matplotlib.pyplot as plt\n",
    "import seaborn as sns\n",
    "\n",
    "from sklearn.preprocessing import LabelEncoder\n",
    "from sklearn.model_selection import train_test_split\n",
    "\n",
    "from typing import Tuple, List\n",
    "from sklearn.ensemble import RandomForestClassifier\n",
    "from sklearn.metrics import r2_score, mean_absolute_error\n",
    "\n",
    "pd.set_option('display.max_rows', 20)\n",
    "pd.set_option('display.max_columns', None)\n",
    "sns.set_style(\"whitegrid\")\n",
    "%matplotlib inline\n",
    "\n",
    "seed = 42"
   ]
  },
  {
   "cell_type": "code",
   "execution_count": 39,
   "metadata": {},
   "outputs": [],
   "source": [
    "# read in the data\n",
    "data = pd.read_csv(\"pitches_folder/pitches\", sep=\",\", low_memory=False)"
   ]
  },
  {
   "cell_type": "markdown",
   "metadata": {},
   "source": [
    "#### Data Exploration & Preprocessing\n",
    "\n",
    "Let's take a look at the data and see what we're working with."
   ]
  },
  {
   "cell_type": "code",
   "execution_count": 40,
   "metadata": {},
   "outputs": [
    {
     "data": {
      "text/plain": [
       "(718961, 125)"
      ]
     },
     "execution_count": 40,
     "metadata": {},
     "output_type": "execute_result"
    }
   ],
   "source": [
    "data.shape  "
   ]
  },
  {
   "cell_type": "markdown",
   "metadata": {},
   "source": [
    "It looks like a significant portion of columns are completely null and won't be usable for this analysis. \n",
    "\n",
    "I'll stick with data where `pitch_type` is not null, since that is the value to be predicted, and remove columns that are entirely or mostly empty."
   ]
  },
  {
   "cell_type": "code",
   "execution_count": 41,
   "metadata": {},
   "outputs": [
    {
     "data": {
      "text/html": [
       "<div>\n",
       "<style scoped>\n",
       "    .dataframe tbody tr th:only-of-type {\n",
       "        vertical-align: middle;\n",
       "    }\n",
       "\n",
       "    .dataframe tbody tr th {\n",
       "        vertical-align: top;\n",
       "    }\n",
       "\n",
       "    .dataframe thead th {\n",
       "        text-align: right;\n",
       "    }\n",
       "</style>\n",
       "<table border=\"1\" class=\"dataframe\">\n",
       "  <thead>\n",
       "    <tr style=\"text-align: right;\">\n",
       "      <th></th>\n",
       "      <th>Total</th>\n",
       "      <th>Percent</th>\n",
       "    </tr>\n",
       "  </thead>\n",
       "  <tbody>\n",
       "    <tr>\n",
       "      <th>runner4_event</th>\n",
       "      <td>718961</td>\n",
       "      <td>1.0</td>\n",
       "    </tr>\n",
       "    <tr>\n",
       "      <th>runner4_score</th>\n",
       "      <td>718961</td>\n",
       "      <td>1.0</td>\n",
       "    </tr>\n",
       "    <tr>\n",
       "      <th>runner4_rbi</th>\n",
       "      <td>718961</td>\n",
       "      <td>1.0</td>\n",
       "    </tr>\n",
       "    <tr>\n",
       "      <th>runner4_earned</th>\n",
       "      <td>718961</td>\n",
       "      <td>1.0</td>\n",
       "    </tr>\n",
       "    <tr>\n",
       "      <th>runner5_id</th>\n",
       "      <td>718961</td>\n",
       "      <td>1.0</td>\n",
       "    </tr>\n",
       "    <tr>\n",
       "      <th>...</th>\n",
       "      <td>...</td>\n",
       "      <td>...</td>\n",
       "    </tr>\n",
       "    <tr>\n",
       "      <th>stand</th>\n",
       "      <td>0</td>\n",
       "      <td>0.0</td>\n",
       "    </tr>\n",
       "    <tr>\n",
       "      <th>created_at</th>\n",
       "      <td>0</td>\n",
       "      <td>0.0</td>\n",
       "    </tr>\n",
       "    <tr>\n",
       "      <th>added_at</th>\n",
       "      <td>0</td>\n",
       "      <td>0.0</td>\n",
       "    </tr>\n",
       "    <tr>\n",
       "      <th>modified_at</th>\n",
       "      <td>0</td>\n",
       "      <td>0.0</td>\n",
       "    </tr>\n",
       "    <tr>\n",
       "      <th>modified_by</th>\n",
       "      <td>0</td>\n",
       "      <td>0.0</td>\n",
       "    </tr>\n",
       "  </tbody>\n",
       "</table>\n",
       "<p>125 rows × 2 columns</p>\n",
       "</div>"
      ],
      "text/plain": [
       "                 Total  Percent\n",
       "runner4_event   718961      1.0\n",
       "runner4_score   718961      1.0\n",
       "runner4_rbi     718961      1.0\n",
       "runner4_earned  718961      1.0\n",
       "runner5_id      718961      1.0\n",
       "...                ...      ...\n",
       "stand                0      0.0\n",
       "created_at           0      0.0\n",
       "added_at             0      0.0\n",
       "modified_at          0      0.0\n",
       "modified_by          0      0.0\n",
       "\n",
       "[125 rows x 2 columns]"
      ]
     },
     "execution_count": 41,
     "metadata": {},
     "output_type": "execute_result"
    }
   ],
   "source": [
    "# check for null values\n",
    "total = data.isnull().sum().sort_values(ascending=False)\n",
    "pct = (data.isnull().sum()/data.isnull().count()).sort_values(ascending=False)\n",
    "missing_data = pd.concat([total, pct], axis=1, keys=['Total', 'Percent'])\n",
    "missing_data"
   ]
  },
  {
   "cell_type": "markdown",
   "metadata": {},
   "source": [
    "I need to trim down the data into what is actually useful. So removing columns that are entirely empty, rows where the target feature is empty, columns that aren't relevant to predicting the pitch type, etc. \n",
    "\n",
    "I also need to do some feature engineering and convert categorical data into numerical data for EDA purposes.\n",
    "\n",
    "The features will be further trimmed down during the modeling stage, where I can discover which features are most impactful for predictive purposes."
   ]
  },
  {
   "cell_type": "code",
   "execution_count": 42,
   "metadata": {},
   "outputs": [],
   "source": [
    "# get columns where the data is entirely or mostly missing and drop them\n",
    "data = data.drop((missing_data[missing_data['Percent'] > 0.5]).index,axis=1)\n",
    "\n",
    "# confirm they're gone\n",
    "data.isnull().sum().max()\n",
    "\n",
    "# drop rows where `pitch_type` is null\n",
    "data = data[~data['pitch_type'].isnull()]\n",
    "\n",
    "# drop columns that aren't relevant to predicting pitch type or that are redundant or I don't have time to explore further at the moment\n",
    "cols = [\n",
    "        'uid' \n",
    "        , 'game_pk' \n",
    "        , 'year'\n",
    "        , 'date'\n",
    "        , 'team_id_b'\n",
    "        , 'team_id_p'\n",
    "        , 'start_tfs'\n",
    "        , 'start_tfs_zulu'\n",
    "        , 'batter_id' \n",
    "        , 'pitcher_id' \n",
    "        , 'at_bat_des' \n",
    "        , 'event'\n",
    "        , 'away_team_runs'\n",
    "        , 'home_team_runs'\n",
    "        , 'pitch_des'\n",
    "        , 'pitch_id'\n",
    "        , 'pitch_tfs'\n",
    "        , 'pitch_tfs_zulu' \n",
    "        , 'created_at' \n",
    "        , 'added_at'\n",
    "        , 'modified_at' \n",
    "        , 'modified_by' \n",
    "        , 'sv_id'\n",
    "        ]\n",
    "\n",
    "# feature engineering & refactoring\n",
    "\n",
    "# let's get the total runs at the time of the pitch, by either team\n",
    "data['total_runs'] = data['away_team_runs'] + data['home_team_runs']\n",
    "\n",
    "# convert binary columns into numerical \n",
    "data['stand'] = pd.factorize(data['stand'])[0]\n",
    "data['p_throws'] = pd.factorize(data['p_throws'])[0]\n",
    "data['type'] = pd.factorize(data['type'])[0]\n",
    "\n",
    "# convert pitch type into numerical\n",
    "le = LabelEncoder() \n",
    "data['pitch_type_en'] = le.fit_transform(data['pitch_type'])\n",
    "\n",
    "# convert batter's height into inches\n",
    "data['b_height'] =  (data.b_height.str.split(\"-\").str[0].astype(int) * 12) + (data.b_height.str.split(\"-\").str[1].astype(int))\n",
    "\n",
    "data = data.drop(data[cols], axis=1)"
   ]
  },
  {
   "cell_type": "markdown",
   "metadata": {},
   "source": [
    "I want a quick glimpse into what the pitch types and feature correlations look like. \n",
    "\n",
    "For the types of pitches, the data is heavily skewed towards `FF`, then `SL`, `SI`, `FT`, `CH`, `CU`, `FC` to a lesser extent. "
   ]
  },
  {
   "cell_type": "code",
   "execution_count": 43,
   "metadata": {},
   "outputs": [
    {
     "data": {
      "text/plain": [
       "<Axes: xlabel='pitch_type', ylabel='count'>"
      ]
     },
     "execution_count": 43,
     "metadata": {},
     "output_type": "execute_result"
    },
    {
     "data": {
      "image/png": "[encoded data removed]",
      "text/plain": [
       "<Figure size 640x480 with 1 Axes>"
      ]
     },
     "metadata": {},
     "output_type": "display_data"
    }
   ],
   "source": [
    "# let's look at the distinct types of pitches and how common they are in the data set \n",
    "sns.countplot(x='pitch_type'\n",
    "              , data=data\n",
    "              , order=data['pitch_type'].value_counts().index)"
   ]
  },
  {
   "cell_type": "markdown",
   "metadata": {},
   "source": [
    "The heat map is indicating some correlations with the pitch type, though they are pretty weak, with all most correlated being 10% or less. I will likely end up doing some feature testing & variable selection during the modeling process to get a better idea of the best features to use, since I don't feel the correlations are helping much at this point."
   ]
  },
  {
   "cell_type": "code",
   "execution_count": 44,
   "metadata": {},
   "outputs": [
    {
     "data": {
      "image/png": "[encoded data removed]",
      "text/plain": [
       "<Figure size 640x480 with 2 Axes>"
      ]
     },
     "metadata": {},
     "output_type": "display_data"
    }
   ],
   "source": [
    "# calculate correlations\n",
    "corr_data = data.loc[:, data.columns != 'pitch_type']\n",
    "corr_matrix = corr_data.corr()\n",
    "\n",
    "# get heat map with regards to pitch_type and the most correlated features\n",
    "k = 12\n",
    "cols = corr_matrix.nlargest(k, 'pitch_type_en')['pitch_type_en'].index\n",
    "cm = np.corrcoef(corr_data[cols].values.T)\n",
    "sns.set_theme(font_scale=1.0)\n",
    "hm = sns.heatmap(cm, cbar=True, annot=True, square=True, fmt='.2f', annot_kws={'size': 10}, yticklabels=cols.values, xticklabels=cols.values)\n",
    "plt.show()"
   ]
  },
  {
   "cell_type": "markdown",
   "metadata": {},
   "source": [
    "#### Train Test Split\n",
    "\n",
    "I want to build a baseline model with the data I have then iteratively improve on the model by removing features that aren't impactful.  In general, it's better to have a simpler model that doesn't introduce more randomness to the model by accident than what is there naturally.\n",
    "\n",
    "First step is to split the data into training and testing sets."
   ]
  },
  {
   "cell_type": "code",
   "execution_count": 45,
   "metadata": {},
   "outputs": [],
   "source": [
    "# get the cleaned up data\n",
    "df = data.loc[:, data.columns != 'pitch_type']"
   ]
  },
  {
   "cell_type": "code",
   "execution_count": 46,
   "metadata": {},
   "outputs": [
    {
     "data": {
      "text/plain": [
       "(716681, 46)"
      ]
     },
     "execution_count": 46,
     "metadata": {},
     "output_type": "execute_result"
    }
   ],
   "source": [
    "df.shape"
   ]
  },
  {
   "cell_type": "code",
   "execution_count": 47,
   "metadata": {},
   "outputs": [],
   "source": [
    "# train test split\n",
    "def pd_train_test_split(df: pd.DataFrame, \n",
    "                        ratio: float) -> Tuple[pd.DataFrame, pd.DataFrame]:\n",
    "    \"\"\"\n",
    "    Given an input df containing all data and the target variable, split the data into training and testing sets\n",
    "    \n",
    "    Params\n",
    "    ------\n",
    "    df : pd.DataFrame\n",
    "        df of all data, features and actuals across all dates.\n",
    "        \n",
    "    Returns\n",
    "    -------\n",
    "    Tuple[pd.DataFrame, pd.Dataframe]\n",
    "        The training set and the test set, respectively\n",
    "    \"\"\"\n",
    "    total_rows = df.shape[0]\n",
    "    train_size = int(total_rows*ratio)\n",
    "\n",
    "    # shuffle the data\n",
    "    df=df.sample(frac=1)\n",
    "\n",
    "    # split data into test and train sets\n",
    "    df_train = df[0:train_size]\n",
    "    df_test = df[train_size:]\n",
    "    \n",
    "    return df_train, df_test"
   ]
  },
  {
   "cell_type": "code",
   "execution_count": 48,
   "metadata": {},
   "outputs": [],
   "source": [
    "# get the 80/20 training and testing data\n",
    "df_train, df_test = pd_train_test_split(df=df, ratio=0.8)"
   ]
  },
  {
   "cell_type": "code",
   "execution_count": 49,
   "metadata": {},
   "outputs": [
    {
     "data": {
      "text/html": [
       "<div>\n",
       "<style scoped>\n",
       "    .dataframe tbody tr th:only-of-type {\n",
       "        vertical-align: middle;\n",
       "    }\n",
       "\n",
       "    .dataframe tbody tr th {\n",
       "        vertical-align: top;\n",
       "    }\n",
       "\n",
       "    .dataframe thead th {\n",
       "        text-align: right;\n",
       "    }\n",
       "</style>\n",
       "<table border=\"1\" class=\"dataframe\">\n",
       "  <thead>\n",
       "    <tr style=\"text-align: right;\">\n",
       "      <th></th>\n",
       "      <th>inning</th>\n",
       "      <th>top</th>\n",
       "      <th>at_bat_num</th>\n",
       "      <th>pcount_at_bat</th>\n",
       "      <th>pcount_pitcher</th>\n",
       "      <th>balls</th>\n",
       "      <th>strikes</th>\n",
       "      <th>fouls</th>\n",
       "      <th>outs</th>\n",
       "      <th>is_final_pitch</th>\n",
       "      <th>final_balls</th>\n",
       "      <th>final_strikes</th>\n",
       "      <th>final_outs</th>\n",
       "      <th>stand</th>\n",
       "      <th>b_height</th>\n",
       "      <th>p_throws</th>\n",
       "      <th>type</th>\n",
       "      <th>x</th>\n",
       "      <th>y</th>\n",
       "      <th>start_speed</th>\n",
       "      <th>end_speed</th>\n",
       "      <th>sz_top</th>\n",
       "      <th>sz_bot</th>\n",
       "      <th>pfx_x</th>\n",
       "      <th>pfx_z</th>\n",
       "      <th>px</th>\n",
       "      <th>pz</th>\n",
       "      <th>x0</th>\n",
       "      <th>z0</th>\n",
       "      <th>y0</th>\n",
       "      <th>vx0</th>\n",
       "      <th>vz0</th>\n",
       "      <th>vy0</th>\n",
       "      <th>ax</th>\n",
       "      <th>az</th>\n",
       "      <th>ay</th>\n",
       "      <th>break_length</th>\n",
       "      <th>break_y</th>\n",
       "      <th>break_angle</th>\n",
       "      <th>type_confidence</th>\n",
       "      <th>zone</th>\n",
       "      <th>nasty</th>\n",
       "      <th>spin_dir</th>\n",
       "      <th>spin_rate</th>\n",
       "      <th>total_runs</th>\n",
       "      <th>pitch_type_en</th>\n",
       "    </tr>\n",
       "  </thead>\n",
       "  <tbody>\n",
       "    <tr>\n",
       "      <th>693004</th>\n",
       "      <td>7</td>\n",
       "      <td>1</td>\n",
       "      <td>54</td>\n",
       "      <td>1</td>\n",
       "      <td>1</td>\n",
       "      <td>0</td>\n",
       "      <td>0</td>\n",
       "      <td>0</td>\n",
       "      <td>1</td>\n",
       "      <td>0</td>\n",
       "      <td>0</td>\n",
       "      <td>1</td>\n",
       "      <td>2</td>\n",
       "      <td>1</td>\n",
       "      <td>72</td>\n",
       "      <td>1</td>\n",
       "      <td>0</td>\n",
       "      <td>121.89</td>\n",
       "      <td>135.56</td>\n",
       "      <td>85.4</td>\n",
       "      <td>79.2</td>\n",
       "      <td>3.51</td>\n",
       "      <td>1.75</td>\n",
       "      <td>8.29</td>\n",
       "      <td>3.74</td>\n",
       "      <td>-0.643</td>\n",
       "      <td>3.102</td>\n",
       "      <td>2.555</td>\n",
       "      <td>6.610</td>\n",
       "      <td>50.0</td>\n",
       "      <td>-10.561</td>\n",
       "      <td>-3.362</td>\n",
       "      <td>-124.705</td>\n",
       "      <td>13.149</td>\n",
       "      <td>-26.174</td>\n",
       "      <td>23.417</td>\n",
       "      <td>7.4</td>\n",
       "      <td>23.8</td>\n",
       "      <td>-22.9</td>\n",
       "      <td>0.855</td>\n",
       "      <td>1.0</td>\n",
       "      <td>66.0</td>\n",
       "      <td>114.528</td>\n",
       "      <td>1681.449</td>\n",
       "      <td>8</td>\n",
       "      <td>6</td>\n",
       "    </tr>\n",
       "    <tr>\n",
       "      <th>635720</th>\n",
       "      <td>3</td>\n",
       "      <td>0</td>\n",
       "      <td>24</td>\n",
       "      <td>2</td>\n",
       "      <td>42</td>\n",
       "      <td>0</td>\n",
       "      <td>1</td>\n",
       "      <td>1</td>\n",
       "      <td>1</td>\n",
       "      <td>0</td>\n",
       "      <td>1</td>\n",
       "      <td>1</td>\n",
       "      <td>3</td>\n",
       "      <td>0</td>\n",
       "      <td>74</td>\n",
       "      <td>1</td>\n",
       "      <td>1</td>\n",
       "      <td>60.09</td>\n",
       "      <td>117.43</td>\n",
       "      <td>88.0</td>\n",
       "      <td>81.4</td>\n",
       "      <td>3.41</td>\n",
       "      <td>1.56</td>\n",
       "      <td>1.42</td>\n",
       "      <td>10.87</td>\n",
       "      <td>1.076</td>\n",
       "      <td>3.607</td>\n",
       "      <td>0.663</td>\n",
       "      <td>6.721</td>\n",
       "      <td>50.0</td>\n",
       "      <td>0.584</td>\n",
       "      <td>-5.255</td>\n",
       "      <td>-128.970</td>\n",
       "      <td>2.397</td>\n",
       "      <td>-13.713</td>\n",
       "      <td>25.795</td>\n",
       "      <td>3.6</td>\n",
       "      <td>23.8</td>\n",
       "      <td>-9.7</td>\n",
       "      <td>0.893</td>\n",
       "      <td>12.0</td>\n",
       "      <td>76.0</td>\n",
       "      <td>172.604</td>\n",
       "      <td>2094.108</td>\n",
       "      <td>2</td>\n",
       "      <td>9</td>\n",
       "    </tr>\n",
       "  </tbody>\n",
       "</table>\n",
       "</div>"
      ],
      "text/plain": [
       "        inning  top  at_bat_num  pcount_at_bat  pcount_pitcher  balls  \\\n",
       "693004       7    1          54              1               1      0   \n",
       "635720       3    0          24              2              42      0   \n",
       "\n",
       "        strikes  fouls  outs  is_final_pitch  final_balls  final_strikes  \\\n",
       "693004        0      0     1               0            0              1   \n",
       "635720        1      1     1               0            1              1   \n",
       "\n",
       "        final_outs  stand  b_height  p_throws  type       x       y  \\\n",
       "693004           2      1        72         1     0  121.89  135.56   \n",
       "635720           3      0        74         1     1   60.09  117.43   \n",
       "\n",
       "        start_speed  end_speed  sz_top  sz_bot  pfx_x  pfx_z     px     pz  \\\n",
       "693004         85.4       79.2    3.51    1.75   8.29   3.74 -0.643  3.102   \n",
       "635720         88.0       81.4    3.41    1.56   1.42  10.87  1.076  3.607   \n",
       "\n",
       "           x0     z0    y0     vx0    vz0      vy0      ax      az      ay  \\\n",
       "693004  2.555  6.610  50.0 -10.561 -3.362 -124.705  13.149 -26.174  23.417   \n",
       "635720  0.663  6.721  50.0   0.584 -5.255 -128.970   2.397 -13.713  25.795   \n",
       "\n",
       "        break_length  break_y  break_angle  type_confidence  zone  nasty  \\\n",
       "693004           7.4     23.8        -22.9            0.855   1.0   66.0   \n",
       "635720           3.6     23.8         -9.7            0.893  12.0   76.0   \n",
       "\n",
       "        spin_dir  spin_rate  total_runs  pitch_type_en  \n",
       "693004   114.528   1681.449           8              6  \n",
       "635720   172.604   2094.108           2              9  "
      ]
     },
     "execution_count": 49,
     "metadata": {},
     "output_type": "execute_result"
    }
   ],
   "source": [
    "df_train.sample(2)"
   ]
  },
  {
   "cell_type": "markdown",
   "metadata": {},
   "source": [
    "#### Baseline Model\n",
    "\n",
    "Since I want to predict the probability of the type of pitch that will occur, a random forest model is a good choice."
   ]
  },
  {
   "cell_type": "code",
   "execution_count": 50,
   "metadata": {},
   "outputs": [],
   "source": [
    "def train_randomforest_model(df_train: pd.DataFrame, \n",
    "                             y_name: str, \n",
    "                             X_names: List[str]) -> RandomForestClassifier:\n",
    "    \"\"\"\n",
    "    Train a catboost model to predict df[y_name] using df[X_Names]\n",
    "    \n",
    "    Params\n",
    "    ------\n",
    "    df_train : pd.DataFrame\n",
    "        Training dataset of features and actuals\n",
    "    y_name : str\n",
    "        Name of column containing the outcome variable\n",
    "    X_names : List[str]\n",
    "        List of name(s) of column(s) containing the features\n",
    "        \n",
    "    Returns\n",
    "    -------\n",
    "    trained random forest model\n",
    "    \"\"\"\n",
    "    # Extract outcome variable and features from df_train\n",
    "    y_train = df_train[y_name]\n",
    "    X_train = df_train[X_names]\n",
    "    \n",
    "    # Instantiate model \n",
    "    model = RandomForestClassifier(n_estimators=100, random_state=42)\n",
    "    \n",
    "    # Train model\n",
    "    model.fit(X_train, y_train)\n",
    "    \n",
    "    return model"
   ]
  },
  {
   "cell_type": "code",
   "execution_count": 51,
   "metadata": {},
   "outputs": [],
   "source": [
    "# get all feature column names and the target variable\n",
    "X_names = [i for i in df_train.columns if i not in [\"pitch_type\", \"pitch_type_en\"]]\n",
    "y_name = 'pitch_type_en'"
   ]
  },
  {
   "cell_type": "code",
   "execution_count": 52,
   "metadata": {},
   "outputs": [],
   "source": [
    "# train a baseline model\n",
    "model = train_randomforest_model(df_train = df_train, y_name = y_name, X_names = X_names)"
   ]
  },
  {
   "cell_type": "markdown",
   "metadata": {},
   "source": [
    "#### Evaluation\n",
    "\n",
    "Next up is to evaluate how the model performed and I will use R2 and MAE for this."
   ]
  },
  {
   "cell_type": "code",
   "execution_count": 53,
   "metadata": {},
   "outputs": [],
   "source": [
    "def evaluate_accuracy(model: RandomForestClassifier,\n",
    "                      df_test: pd.DataFrame,\n",
    "                      y_name: str,\n",
    "                      X_names: List[str]) -> Tuple[float, float, np.array]:\n",
    "    \"\"\"\n",
    "    Given a trained model and a test set, evaluate model accuracy.\n",
    "    First we generate predictions using df_test[X_names]. Then we compare\n",
    "    the predictions to df_test[y_name] to calculate R^2 and MAE.\n",
    "    \n",
    "    Params\n",
    "    ------\n",
    "    model : RandomForestClassifier\n",
    "        Trained RandomForest model\n",
    "    df_test : pd.DataFrame\n",
    "        Test dataset containing features and actuals\n",
    "    y_name : str\n",
    "        Name of column containing the outcome variable\n",
    "    X_names : List[str]\n",
    "        List of name(s) of column(s) containing the features\n",
    "        \n",
    "    Returns\n",
    "    -------\n",
    "    Tuple[float, float]\n",
    "        The R^2 and MAE metrics, respectively\n",
    "    np.array\n",
    "        The raw predictions\n",
    "    \"\"\"\n",
    "    # Generate predictions\n",
    "    predictions = model.predict(df_test[X_names])\n",
    "    probabilities = np.max(model.predict_proba(df_test[X_names]), axis = 1)\n",
    "    \n",
    "    # Compute metrics\n",
    "    r2 = r2_score(df_test[y_name], predictions)\n",
    "    mae = mean_absolute_error(df_test[y_name], predictions)\n",
    "    \n",
    "    return r2, mae, predictions, probabilities"
   ]
  },
  {
   "cell_type": "code",
   "execution_count": 54,
   "metadata": {},
   "outputs": [],
   "source": [
    "r2, mae, predictions, probabilities = evaluate_accuracy(model = model, df_test = df_test, y_name = y_name, X_names = X_names)"
   ]
  },
  {
   "cell_type": "code",
   "execution_count": 57,
   "metadata": {},
   "outputs": [
    {
     "name": "stdout",
     "output_type": "stream",
     "text": [
      "R^2: 0.5841049716087654, MAE: 1.1137040680354688\n"
     ]
    }
   ],
   "source": [
    "print(f'R^2: {r2}, MAE: {mae}')"
   ]
  },
  {
   "cell_type": "markdown",
   "metadata": {},
   "source": [
    "The moderate R2 suggests this model explains a good amount of the variation in the target variable and the low MAE suggests that the model predictions aren't usually far off the actual pitch type on average.\n",
    "\n",
    "Remember, this is just the baseline model with no additional adjustments made to it so there is a lot of room for improvement!\n",
    "\n",
    "For ease of viewing, let's throw the predictions and their probabilities back into the test data to see how it all compares. "
   ]
  },
  {
   "cell_type": "code",
   "execution_count": 58,
   "metadata": {},
   "outputs": [],
   "source": [
    "# add the predictions and probabilities back into the test data\n",
    "df_test['prediction'] = predictions\n",
    "df_test['probability'] = probabilities\n",
    "\n",
    "# undo the label encoding from earlier to better see the predictions and actuals\n",
    "df_test['pitch_type_actual'] =  le.inverse_transform(df_test['pitch_type_en'])"
   ]
  },
  {
   "cell_type": "code",
   "execution_count": 59,
   "metadata": {},
   "outputs": [],
   "source": [
    "output = df_test[['pitch_type_actual','pitch_type_en', 'prediction', 'probability']]"
   ]
  },
  {
   "cell_type": "code",
   "execution_count": 60,
   "metadata": {},
   "outputs": [
    {
     "data": {
      "text/html": [
       "<div>\n",
       "<style scoped>\n",
       "    .dataframe tbody tr th:only-of-type {\n",
       "        vertical-align: middle;\n",
       "    }\n",
       "\n",
       "    .dataframe tbody tr th {\n",
       "        vertical-align: top;\n",
       "    }\n",
       "\n",
       "    .dataframe thead th {\n",
       "        text-align: right;\n",
       "    }\n",
       "</style>\n",
       "<table border=\"1\" class=\"dataframe\">\n",
       "  <thead>\n",
       "    <tr style=\"text-align: right;\">\n",
       "      <th></th>\n",
       "      <th>pitch_type_actual</th>\n",
       "      <th>pitch_type_en</th>\n",
       "      <th>prediction</th>\n",
       "      <th>probability</th>\n",
       "    </tr>\n",
       "  </thead>\n",
       "  <tbody>\n",
       "    <tr>\n",
       "      <th>314167</th>\n",
       "      <td>FF</td>\n",
       "      <td>6</td>\n",
       "      <td>6</td>\n",
       "      <td>0.95</td>\n",
       "    </tr>\n",
       "    <tr>\n",
       "      <th>48348</th>\n",
       "      <td>SI</td>\n",
       "      <td>15</td>\n",
       "      <td>15</td>\n",
       "      <td>0.97</td>\n",
       "    </tr>\n",
       "    <tr>\n",
       "      <th>501176</th>\n",
       "      <td>SI</td>\n",
       "      <td>15</td>\n",
       "      <td>15</td>\n",
       "      <td>1.00</td>\n",
       "    </tr>\n",
       "    <tr>\n",
       "      <th>717469</th>\n",
       "      <td>FT</td>\n",
       "      <td>9</td>\n",
       "      <td>9</td>\n",
       "      <td>0.84</td>\n",
       "    </tr>\n",
       "    <tr>\n",
       "      <th>505658</th>\n",
       "      <td>SI</td>\n",
       "      <td>15</td>\n",
       "      <td>15</td>\n",
       "      <td>0.98</td>\n",
       "    </tr>\n",
       "    <tr>\n",
       "      <th>611851</th>\n",
       "      <td>FF</td>\n",
       "      <td>6</td>\n",
       "      <td>6</td>\n",
       "      <td>0.97</td>\n",
       "    </tr>\n",
       "    <tr>\n",
       "      <th>194831</th>\n",
       "      <td>FC</td>\n",
       "      <td>5</td>\n",
       "      <td>6</td>\n",
       "      <td>0.92</td>\n",
       "    </tr>\n",
       "    <tr>\n",
       "      <th>625977</th>\n",
       "      <td>FF</td>\n",
       "      <td>6</td>\n",
       "      <td>6</td>\n",
       "      <td>0.95</td>\n",
       "    </tr>\n",
       "    <tr>\n",
       "      <th>507864</th>\n",
       "      <td>FF</td>\n",
       "      <td>6</td>\n",
       "      <td>6</td>\n",
       "      <td>0.98</td>\n",
       "    </tr>\n",
       "    <tr>\n",
       "      <th>32658</th>\n",
       "      <td>FC</td>\n",
       "      <td>5</td>\n",
       "      <td>6</td>\n",
       "      <td>0.76</td>\n",
       "    </tr>\n",
       "    <tr>\n",
       "      <th>393217</th>\n",
       "      <td>FT</td>\n",
       "      <td>9</td>\n",
       "      <td>6</td>\n",
       "      <td>0.52</td>\n",
       "    </tr>\n",
       "    <tr>\n",
       "      <th>552369</th>\n",
       "      <td>CU</td>\n",
       "      <td>2</td>\n",
       "      <td>2</td>\n",
       "      <td>0.73</td>\n",
       "    </tr>\n",
       "    <tr>\n",
       "      <th>151849</th>\n",
       "      <td>FT</td>\n",
       "      <td>9</td>\n",
       "      <td>9</td>\n",
       "      <td>0.75</td>\n",
       "    </tr>\n",
       "    <tr>\n",
       "      <th>333973</th>\n",
       "      <td>CU</td>\n",
       "      <td>2</td>\n",
       "      <td>2</td>\n",
       "      <td>0.94</td>\n",
       "    </tr>\n",
       "    <tr>\n",
       "      <th>671878</th>\n",
       "      <td>FC</td>\n",
       "      <td>5</td>\n",
       "      <td>5</td>\n",
       "      <td>0.56</td>\n",
       "    </tr>\n",
       "  </tbody>\n",
       "</table>\n",
       "</div>"
      ],
      "text/plain": [
       "       pitch_type_actual  pitch_type_en  prediction  probability\n",
       "314167                FF              6           6         0.95\n",
       "48348                 SI             15          15         0.97\n",
       "501176                SI             15          15         1.00\n",
       "717469                FT              9           9         0.84\n",
       "505658                SI             15          15         0.98\n",
       "611851                FF              6           6         0.97\n",
       "194831                FC              5           6         0.92\n",
       "625977                FF              6           6         0.95\n",
       "507864                FF              6           6         0.98\n",
       "32658                 FC              5           6         0.76\n",
       "393217                FT              9           6         0.52\n",
       "552369                CU              2           2         0.73\n",
       "151849                FT              9           9         0.75\n",
       "333973                CU              2           2         0.94\n",
       "671878                FC              5           5         0.56"
      ]
     },
     "execution_count": 60,
     "metadata": {},
     "output_type": "execute_result"
    }
   ],
   "source": [
    "output.head(15)"
   ]
  },
  {
   "cell_type": "markdown",
   "metadata": {},
   "source": [
    "## Conclusion\n",
    "\n",
    "With more time to work on this project, I would want to be more thorough EDA. I could probably save myself some pain down the line if my EDA was more thorough so I could potentially highlight important features before getting to the modeling stage.\n",
    "\n",
    "I would want to test some engineered features to see how they impact the model, such as the result of the previous pitch thrown by this pitcher (strikeout, hit, etc) and the type pitch most recently thrown by the pitcher (perhaps some pitchers stick to one or two types and others try try to mix it up every time they throw). I would also like to explore how the pitcher height vs the batter height may impact the type of pitch thrown. \n",
    "\n",
    "Most importantly, I would want to do many more iterations of the modeling to ensure overfitting isn't a huge issue and improve evaluation metrics. In general, I would want to spend more time on the variable selection stage to really nail down the best features to use in the model and to keep it simple - no redundant features if I can help it. I would test several different methods to do this - perhaps Stepwise Regression or LASSO to eliminate unneeded features or Elastic Net to weight features according to how useful they are.\n",
    "\n",
    "I normally would do a baseline model and then continue refining the model by digging into feature importance and iteratively testing the model with different features until I find the set that works best for predictive purposes without overfitting, using a library like SHAP. This would give me an idea of both the feature importance and the directionality of the features. I would also want to include more metrics for evaluation - a confusion matrix and AUC, probably. \n",
    "\n",
    "For now, this is what I could do in the time alotted. "
   ]
  }
 ],
 "metadata": {
  "kernelspec": {
   "display_name": ".venv",
   "language": "python",
   "name": "python3"
  },
  "language_info": {
   "codemirror_mode": {
    "name": "ipython",
    "version": 3
   },
   "file_extension": ".py",
   "mimetype": "text/x-python",
   "name": "python",
   "nbconvert_exporter": "python",
   "pygments_lexer": "ipython3",
   "version": "3.13.0"
  }
 },
 "nbformat": 4,
 "nbformat_minor": 2
}
